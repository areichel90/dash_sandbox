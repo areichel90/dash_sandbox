{
 "cells": [
  {
   "cell_type": "code",
   "execution_count": 41,
   "id": "66581234-00dd-4057-b4f5-33e7a6890494",
   "metadata": {},
   "outputs": [],
   "source": [
    "from dash import Dash, html, callback, dcc, Output, Input\n",
    "import plotly.graph_objects as go\n",
    "import pandas as pd\n",
    "import numpy as np\n",
    "import random\n",
    "\n",
    "df_rows = int(1e3)\n",
    "df = pd.DataFrame()\n",
    "df[\"A\"] = [random.randint(1,10) for i in range(df_rows)]\n",
    "df[\"B\"] = [random.randint(1,10) for i in range(df_rows)]\n",
    "df[\"C\"] = [random.randint(1,10) for i in range(df_rows)]\n",
    "df['label'] = random.choices([\"ice cream truck\", \"taco truck\", \"roach coach\"], k=df_rows)"
   ]
  },
  {
   "cell_type": "code",
   "execution_count": 95,
   "id": "9a9128bc-5bdd-4b30-ab39-7300cf157e31",
   "metadata": {},
   "outputs": [
    {
     "name": "stdout",
     "output_type": "stream",
     "text": [
      "<class 'pandas.core.frame.DataFrame'>\n",
      "RangeIndex: 1000 entries, 0 to 999\n",
      "Data columns (total 4 columns):\n",
      " #   Column  Non-Null Count  Dtype \n",
      "---  ------  --------------  ----- \n",
      " 0   A       1000 non-null   int64 \n",
      " 1   B       1000 non-null   int64 \n",
      " 2   C       1000 non-null   int64 \n",
      " 3   label   1000 non-null   object\n",
      "dtypes: int64(3), object(1)\n",
      "memory usage: 31.4+ KB\n"
     ]
    }
   ],
   "source": [
    "df.info()"
   ]
  },
  {
   "cell_type": "code",
   "execution_count": 108,
   "id": "1c1006d1-ebcd-4c44-b60f-9ad2d1b34d90",
   "metadata": {},
   "outputs": [],
   "source": [
    "app = Dash()\n",
    "app.layout = [\n",
    "    html.H1(children=\"Application Title\", style={'textAlign':'left'}),\n",
    "    dcc.Dropdown(df.label.unique(), 'Babagooey', id='dropdown-selection'),\n",
    "    dcc.Slider(0, 10, .1, value=10, marks=None, \n",
    "              tooltip={\"placement\":\"bottom\", \"always_visible\":True},\n",
    "              id='slider-value'),\n",
    "    dcc.Graph(id='graph-content')\n",
    "]\n",
    "\n",
    "@callback(\n",
    "    Output('graph-content', 'figure'),\n",
    "    Input('dropdown-selection', 'value'),\n",
    "    Input('slider-value', 'value')\n",
    ")\n",
    "def update_graph(value, slider):\n",
    "    print(value, slider, type(value), type(slider))\n",
    "    _df = df[df.label == value] if value != None else df\n",
    "    _df = _df[(_df.A <= int(slider)) &\n",
    "                (_df.B <= slider) &\n",
    "                (_df.C <= slider)]\n",
    "    return go.Figure(data=go.Scatter3d(x=_df.A, y=_df.B, z=_df.C,\n",
    "                                       marker=dict(opacity=0.5),\n",
    "                       mode='markers'))"
   ]
  },
  {
   "cell_type": "code",
   "execution_count": 109,
   "id": "3a1edb3c-3636-4e9f-b550-dd94a6032561",
   "metadata": {},
   "outputs": [
    {
     "data": {
      "text/html": [
       "\n",
       "        <iframe\n",
       "            width=\"100%\"\n",
       "            height=\"650\"\n",
       "            src=\"http://127.0.0.1:8050/\"\n",
       "            frameborder=\"0\"\n",
       "            allowfullscreen\n",
       "            \n",
       "        ></iframe>\n",
       "        "
      ],
      "text/plain": [
       "<IPython.lib.display.IFrame at 0x7f8b4b0650f0>"
      ]
     },
     "metadata": {},
     "output_type": "display_data"
    },
    {
     "name": "stdout",
     "output_type": "stream",
     "text": [
      "Babagooey 10 <class 'str'> <class 'int'>\n",
      "None 10 <class 'NoneType'> <class 'int'>\n",
      "taco truck 10 <class 'str'> <class 'int'>\n"
     ]
    }
   ],
   "source": [
    "app.run()"
   ]
  },
  {
   "cell_type": "code",
   "execution_count": 101,
   "id": "cbda42ba-5be2-41ca-836a-5814557eb472",
   "metadata": {},
   "outputs": [
    {
     "data": {
      "text/html": [
       "<div>\n",
       "<style scoped>\n",
       "    .dataframe tbody tr th:only-of-type {\n",
       "        vertical-align: middle;\n",
       "    }\n",
       "\n",
       "    .dataframe tbody tr th {\n",
       "        vertical-align: top;\n",
       "    }\n",
       "\n",
       "    .dataframe thead th {\n",
       "        text-align: right;\n",
       "    }\n",
       "</style>\n",
       "<table border=\"1\" class=\"dataframe\">\n",
       "  <thead>\n",
       "    <tr style=\"text-align: right;\">\n",
       "      <th></th>\n",
       "      <th>A</th>\n",
       "      <th>B</th>\n",
       "      <th>C</th>\n",
       "      <th>label</th>\n",
       "    </tr>\n",
       "  </thead>\n",
       "  <tbody>\n",
       "    <tr>\n",
       "      <th>0</th>\n",
       "      <td>4</td>\n",
       "      <td>2</td>\n",
       "      <td>4</td>\n",
       "      <td>ice cream truck</td>\n",
       "    </tr>\n",
       "    <tr>\n",
       "      <th>10</th>\n",
       "      <td>2</td>\n",
       "      <td>3</td>\n",
       "      <td>1</td>\n",
       "      <td>roach coach</td>\n",
       "    </tr>\n",
       "    <tr>\n",
       "      <th>20</th>\n",
       "      <td>2</td>\n",
       "      <td>5</td>\n",
       "      <td>3</td>\n",
       "      <td>taco truck</td>\n",
       "    </tr>\n",
       "    <tr>\n",
       "      <th>28</th>\n",
       "      <td>4</td>\n",
       "      <td>5</td>\n",
       "      <td>4</td>\n",
       "      <td>roach coach</td>\n",
       "    </tr>\n",
       "    <tr>\n",
       "      <th>30</th>\n",
       "      <td>2</td>\n",
       "      <td>4</td>\n",
       "      <td>5</td>\n",
       "      <td>ice cream truck</td>\n",
       "    </tr>\n",
       "    <tr>\n",
       "      <th>...</th>\n",
       "      <td>...</td>\n",
       "      <td>...</td>\n",
       "      <td>...</td>\n",
       "      <td>...</td>\n",
       "    </tr>\n",
       "    <tr>\n",
       "      <th>981</th>\n",
       "      <td>5</td>\n",
       "      <td>5</td>\n",
       "      <td>5</td>\n",
       "      <td>taco truck</td>\n",
       "    </tr>\n",
       "    <tr>\n",
       "      <th>983</th>\n",
       "      <td>4</td>\n",
       "      <td>1</td>\n",
       "      <td>4</td>\n",
       "      <td>taco truck</td>\n",
       "    </tr>\n",
       "    <tr>\n",
       "      <th>984</th>\n",
       "      <td>1</td>\n",
       "      <td>4</td>\n",
       "      <td>3</td>\n",
       "      <td>taco truck</td>\n",
       "    </tr>\n",
       "    <tr>\n",
       "      <th>986</th>\n",
       "      <td>3</td>\n",
       "      <td>5</td>\n",
       "      <td>1</td>\n",
       "      <td>ice cream truck</td>\n",
       "    </tr>\n",
       "    <tr>\n",
       "      <th>994</th>\n",
       "      <td>4</td>\n",
       "      <td>1</td>\n",
       "      <td>2</td>\n",
       "      <td>ice cream truck</td>\n",
       "    </tr>\n",
       "  </tbody>\n",
       "</table>\n",
       "<p>140 rows × 4 columns</p>\n",
       "</div>"
      ],
      "text/plain": [
       "     A  B  C            label\n",
       "0    4  2  4  ice cream truck\n",
       "10   2  3  1      roach coach\n",
       "20   2  5  3       taco truck\n",
       "28   4  5  4      roach coach\n",
       "30   2  4  5  ice cream truck\n",
       "..  .. .. ..              ...\n",
       "981  5  5  5       taco truck\n",
       "983  4  1  4       taco truck\n",
       "984  1  4  3       taco truck\n",
       "986  3  5  1  ice cream truck\n",
       "994  4  1  2  ice cream truck\n",
       "\n",
       "[140 rows x 4 columns]"
      ]
     },
     "execution_count": 101,
     "metadata": {},
     "output_type": "execute_result"
    }
   ],
   "source": [
    "df[(df.A <= 5) & (df.B <=5) & (df.C<=5)]"
   ]
  },
  {
   "cell_type": "code",
   "execution_count": null,
   "id": "d0980062-d6f9-445a-81f9-06cff86695a7",
   "metadata": {},
   "outputs": [],
   "source": []
  }
 ],
 "metadata": {
  "kernelspec": {
   "display_name": "Python 3 (ipykernel)",
   "language": "python",
   "name": "python3"
  },
  "language_info": {
   "codemirror_mode": {
    "name": "ipython",
    "version": 3
   },
   "file_extension": ".py",
   "mimetype": "text/x-python",
   "name": "python",
   "nbconvert_exporter": "python",
   "pygments_lexer": "ipython3",
   "version": "3.10.14"
  }
 },
 "nbformat": 4,
 "nbformat_minor": 5
}
