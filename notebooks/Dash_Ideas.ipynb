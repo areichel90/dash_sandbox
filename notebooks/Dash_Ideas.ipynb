{
 "cells": [
  {
   "cell_type": "code",
   "execution_count": 31,
   "id": "66581234-00dd-4057-b4f5-33e7a6890494",
   "metadata": {},
   "outputs": [],
   "source": [
    "from dash import Dash, html, callback, dcc, Output, Input, ctx\n",
    "import plotly.graph_objects as go\n",
    "import pandas as pd\n",
    "import numpy as np\n",
    "import random\n",
    "\n",
    "df_rows = int(1e4)\n",
    "df = pd.DataFrame()\n",
    "df[\"A\"] = [random.randint(1,10) for i in range(df_rows)]\n",
    "df[\"B\"] = [random.randint(1,10) for i in range(df_rows)]\n",
    "df[\"C\"] = [random.randint(1,10) for i in range(df_rows)]\n",
    "df['label'] = random.choices([\"Monday\", \"Tuedsay\", \"Wednesday\"], k=df_rows)"
   ]
  },
  {
   "cell_type": "code",
   "execution_count": 32,
   "id": "9a9128bc-5bdd-4b30-ab39-7300cf157e31",
   "metadata": {},
   "outputs": [],
   "source": [
    "def filter_data(df, value, slider):\n",
    "    # subset data for vis\n",
    "    _df = df[df.label == value] if value != None else df\n",
    "    _df = _df[(_df.A <= int(slider)) &\n",
    "                (_df.B <= slider) &\n",
    "                (_df.C <= slider)]\n",
    "    \n",
    "    return _df\n",
    "\n",
    "def run_summary_stats(df):\n",
    "    df = df[[\"A\", \"B\", \"C\"]].mean()\n",
    "    return df"
   ]
  },
  {
   "cell_type": "code",
   "execution_count": 37,
   "id": "1c1006d1-ebcd-4c44-b60f-9ad2d1b34d90",
   "metadata": {},
   "outputs": [],
   "source": [
    "app = Dash(__name__)\n",
    "app.layout = [\n",
    "    html.H1(children=\"3D Shiznits\", style={'textAlign':'left'}),\n",
    "    dcc.Dropdown(df.label.unique(), 'Babagooey', id='dropdown-selection'),\n",
    "    dcc.Slider(0, 10, .1, value=10, marks=None, \n",
    "              tooltip={\"placement\":\"bottom\", \"always_visible\":True},\n",
    "              id='slider-value'),\n",
    "    html.Button(id='btn-nclicks-1', n_clicks=0, children=\"Get Summary Stats\", style={'margin-left': 10}),\n",
    "    dcc.Graph(id='graph-content')\n",
    "]\n",
    "\n",
    "@callback(\n",
    "    Output('graph-content', 'figure'),\n",
    "    Input('dropdown-selection', 'value'),\n",
    "    Input('slider-value', 'value'),\n",
    "    Input('btn-nclicks-1', 'n_clicks')\n",
    ")\n",
    "def update_graph(value, slider, button):\n",
    "    #print(value, slider, button)\n",
    "\n",
    "    # subset original dataframe\n",
    "    _df = filter_data(df, value, slider)\n",
    "\n",
    "    # plot it.\n",
    "    raw_data = go.Scatter3d(x=_df.A, y=_df.B, z=_df.C,\n",
    "                               marker=dict(opacity=0.025),\n",
    "                               mode='markers',\n",
    "                               name=\"data\")\n",
    "    traces = [raw_data]\n",
    "    _title = f\"{value} (data <= {slider})\" if value != None else \"Please select an option from the dropdown above\"\n",
    "    layout = go.Layout(title=_title, )\n",
    "\n",
    "    # check if button count has changed\n",
    "    if \"btn-nclicks-1\" == ctx.triggered_id:\n",
    "        msg = \"Button 1 was most recently clicked\"\n",
    "        #print(\"button -> \", value, slider)\n",
    "        _obj = run_summary_stats(_df)\n",
    "\n",
    "        summary_data = go.Scatter3d(x = [float(_obj.A)], y=[float(_obj.B)], z=[float(_obj.C)], \n",
    "                                    marker=dict(opacity=1),\n",
    "                                    mode='markers',\n",
    "                                   name=\"data mean\")\n",
    "        traces.append(summary_data)\n",
    "        _title += f\"<br>mean: {_obj.values}<br>std:    {_df[['A','B','C']].std().values}<br>\"\n",
    "        layout = go.Layout(title=_title, xaxis=dict(range=[0,10]), yaxis=dict(range=[0,10]))\n",
    "\n",
    "    \n",
    "    return go.Figure(data=traces, layout=layout)"
   ]
  },
  {
   "cell_type": "code",
   "execution_count": 38,
   "id": "3a1edb3c-3636-4e9f-b550-dd94a6032561",
   "metadata": {},
   "outputs": [
    {
     "data": {
      "text/html": [
       "\n",
       "        <iframe\n",
       "            width=\"100%\"\n",
       "            height=\"650\"\n",
       "            src=\"http://127.0.0.1:8050/\"\n",
       "            frameborder=\"0\"\n",
       "            allowfullscreen\n",
       "            \n",
       "        ></iframe>\n",
       "        "
      ],
      "text/plain": [
       "<IPython.lib.display.IFrame at 0x7fc61e8d5a20>"
      ]
     },
     "metadata": {},
     "output_type": "display_data"
    }
   ],
   "source": [
    "app.run(debug=True)"
   ]
  },
  {
   "cell_type": "code",
   "execution_count": 39,
   "id": "491b83cd-b650-4234-810f-7644746f27f9",
   "metadata": {},
   "outputs": [],
   "source": [
    "app = Dash(__name__)\n",
    "app.layout = [\n",
    "    html.H1(children=\"3D Shiznits\", style={'textAlign':'left'}),\n",
    "    dcc.Dropdown(df.label.unique(), 'Babagooey', id='dropdown-selection'),\n",
    "    dcc.Slider(0, 10, .1, value=10, marks=None, \n",
    "              tooltip={\"placement\":\"bottom\", \"always_visible\":True},\n",
    "              id='slider-value'),\n",
    "    html.Button(id='btn-nclicks-1', n_clicks=0, children=\"Get Summary Stats\", style={'margin-left': 10}),\n",
    "    html.Div([\n",
    "            dcc.Graph(id='graph-content', style={'width': '120vh', 'height': '80vh'}),\n",
    "            html.P(id='summary_stats'),\n",
    "        ],\n",
    "        style={ \"height\":\"500px\",\n",
    "                \"display\": \"flex\"}),\n",
    "    html.Br()\n",
    "]\n",
    "\n",
    "@callback(\n",
    "    Output('graph-content', 'figure'),\n",
    "    Output('summary_stats', 'children'),\n",
    "    Input('dropdown-selection', 'value'),\n",
    "    Input('slider-value', 'value'),\n",
    "    Input('btn-nclicks-1', 'n_clicks')\n",
    ")\n",
    "def update_graph(value, slider, button):\n",
    "    #print(value, slider, button)\n",
    "\n",
    "    # subset original dataframe\n",
    "    _df = filter_data(df, value, slider)\n",
    "\n",
    "    # plot it.\n",
    "    raw_data = go.Scatter3d(x=_df.A, y=_df.B, z=_df.C,\n",
    "                               marker=dict(opacity=0.025),\n",
    "                               mode='markers',\n",
    "                               name=\"data\")\n",
    "    traces = [raw_data]\n",
    "    _title = f\"{value} (data <= {slider})\" if value != None else \"Please select an option from the dropdown above\"\n",
    "    data_display = \"\"\n",
    "    layout = go.Layout(title=_title, )\n",
    "\n",
    "    # check if button count has changed\n",
    "    if \"btn-nclicks-1\" == ctx.triggered_id:\n",
    "        msg = \"Button 1 was most recently clicked\"\n",
    "        #print(\"button -> \", value, slider)\n",
    "        _obj = run_summary_stats(_df)\n",
    "\n",
    "        summary_data = go.Scatter3d(x = [float(_obj.A)], y=[float(_obj.B)], z=[float(_obj.C)], \n",
    "                                    marker=dict(opacity=1),\n",
    "                                    mode='markers',\n",
    "                                   name=\"data mean\")\n",
    "        traces.append(summary_data)\n",
    "        #_title += f\"<br>mean: {_obj.values}<br>std:    {_df[['A','B','C']].std().values}<br>\"\n",
    "        data_display = [\"Data Summary\", html.Br(), \n",
    "                        \"* samples: \",  _df.shape[0], html.Br(),\n",
    "                       \"* mean: \",   str([float(round(i,2)) for i in _df[[\"A\",\"B\",\"C\"]].mean().values]), html.Br(),\n",
    "                       \"* std dev:  \", str([float(round(i,2)) for i in _df[[\"A\",\"B\",\"C\"]].std().values])]\n",
    "        layout = go.Layout(title=_title, xaxis=dict(range=[0,10]), yaxis=dict(range=[0,10]))\n",
    "\n",
    "    \n",
    "    return [go.Figure(data=traces, layout=layout), data_display]"
   ]
  },
  {
   "cell_type": "code",
   "execution_count": 40,
   "id": "1cbce05f-1b8c-46cb-b75e-d78b6b494ff0",
   "metadata": {},
   "outputs": [
    {
     "data": {
      "text/html": [
       "\n",
       "        <iframe\n",
       "            width=\"100%\"\n",
       "            height=\"650\"\n",
       "            src=\"http://127.0.0.1:8086/\"\n",
       "            frameborder=\"0\"\n",
       "            allowfullscreen\n",
       "            \n",
       "        ></iframe>\n",
       "        "
      ],
      "text/plain": [
       "<IPython.lib.display.IFrame at 0x7fc61dba42b0>"
      ]
     },
     "metadata": {},
     "output_type": "display_data"
    }
   ],
   "source": [
    "app.run(debug=True, host=\"127.0.0.1\", port=\"8086\")"
   ]
  },
  {
   "cell_type": "code",
   "execution_count": null,
   "id": "aeb81297-666b-4607-b598-a60739b8745b",
   "metadata": {},
   "outputs": [],
   "source": []
  }
 ],
 "metadata": {
  "kernelspec": {
   "display_name": "Python 3 (ipykernel)",
   "language": "python",
   "name": "python3"
  },
  "language_info": {
   "codemirror_mode": {
    "name": "ipython",
    "version": 3
   },
   "file_extension": ".py",
   "mimetype": "text/x-python",
   "name": "python",
   "nbconvert_exporter": "python",
   "pygments_lexer": "ipython3",
   "version": "3.10.14"
  }
 },
 "nbformat": 4,
 "nbformat_minor": 5
}
